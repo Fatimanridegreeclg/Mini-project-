{
  "nbformat": 4,
  "nbformat_minor": 0,
  "metadata": {
    "colab": {
      "provenance": [],
      "authorship_tag": "ABX9TyPaVBbAyPfysMa+3RYrauS6",
      "include_colab_link": true
    },
    "kernelspec": {
      "name": "python3",
      "display_name": "Python 3"
    },
    "language_info": {
      "name": "python"
    }
  },
  "cells": [
    {
      "cell_type": "markdown",
      "metadata": {
        "id": "view-in-github",
        "colab_type": "text"
      },
      "source": [
        "<a href=\"https://colab.research.google.com/github/Fatimanridegreeclg/Mini-project-/blob/main/Introduction_to_numpy_class2.ipynb\" target=\"_parent\"><img src=\"https://colab.research.google.com/assets/colab-badge.svg\" alt=\"Open In Colab\"/></a>"
      ]
    },
    {
      "cell_type": "code",
      "execution_count": null,
      "metadata": {
        "id": "Q2vIonDK7E2Y"
      },
      "outputs": [],
      "source": [
        "import numpy as np"
      ]
    },
    {
      "cell_type": "code",
      "source": [
        "#Recap\n",
        "arr = np.array([[1,2,3],[4,5,6]])"
      ],
      "metadata": {
        "id": "2net5mBz7PiI"
      },
      "execution_count": null,
      "outputs": []
    },
    {
      "cell_type": "code",
      "source": [
        "type (arr)"
      ],
      "metadata": {
        "colab": {
          "base_uri": "https://localhost:8080/"
        },
        "id": "-RKzAzl37m5S",
        "outputId": "ebd8f898-0228-4f17-e32e-7cf8812bc9cb"
      },
      "execution_count": null,
      "outputs": [
        {
          "output_type": "execute_result",
          "data": {
            "text/plain": [
              "numpy.ndarray"
            ]
          },
          "metadata": {},
          "execution_count": 4
        }
      ]
    },
    {
      "cell_type": "code",
      "source": [
        "#Dot product-m×n||n×p\n",
        "arr1=np.random.randint(1,2,(3,1))\n",
        "arr=np.random.randint(1,2,(1,2))"
      ],
      "metadata": {
        "id": "iI3FBToh7vRl"
      },
      "execution_count": null,
      "outputs": []
    },
    {
      "cell_type": "code",
      "source": [
        "arr.shape\n",
        "arr1.shape"
      ],
      "metadata": {
        "colab": {
          "base_uri": "https://localhost:8080/"
        },
        "id": "Lm1jdAvIC2Jw",
        "outputId": "167ca747-4711-44ab-9d64-40ba0227fce3"
      },
      "execution_count": null,
      "outputs": [
        {
          "output_type": "execute_result",
          "data": {
            "text/plain": [
              "(3, 1)"
            ]
          },
          "metadata": {},
          "execution_count": 27
        }
      ]
    },
    {
      "cell_type": "code",
      "source": [
        "result=np.dot(arr,arr1)"
      ],
      "metadata": {
        "id": "FFpLT77CC46v"
      },
      "execution_count": null,
      "outputs": []
    },
    {
      "cell_type": "code",
      "source": [
        "print (result)"
      ],
      "metadata": {
        "colab": {
          "base_uri": "https://localhost:8080/"
        },
        "id": "13bCa_NrERX3",
        "outputId": "fdb036f7-1dfa-452b-910b-6c9f540d62ea"
      },
      "execution_count": null,
      "outputs": [
        {
          "output_type": "stream",
          "name": "stdout",
          "text": [
            "[[ 6]\n",
            " [15]]\n"
          ]
        }
      ]
    },
    {
      "cell_type": "code",
      "source": [
        "r1=np.random.randint(10,20,(3,3))\n",
        "print(r1)"
      ],
      "metadata": {
        "colab": {
          "base_uri": "https://localhost:8080/"
        },
        "id": "uWBVjPu7ERqy",
        "outputId": "52cd288e-6291-40b5-bbeb-38ffa1c66beb"
      },
      "execution_count": null,
      "outputs": [
        {
          "output_type": "stream",
          "name": "stdout",
          "text": [
            "[[19 13 16]\n",
            " [17 17 13]\n",
            " [10 13 16]]\n"
          ]
        }
      ]
    },
    {
      "cell_type": "code",
      "source": [
        "r2=np.eye(3)\n",
        "print(r2)"
      ],
      "metadata": {
        "colab": {
          "base_uri": "https://localhost:8080/"
        },
        "id": "WUDgPKcNIfcP",
        "outputId": "014d0349-0ed0-46a7-c4b0-381fa463a416"
      },
      "execution_count": null,
      "outputs": [
        {
          "output_type": "stream",
          "name": "stdout",
          "text": [
            "[[1. 0. 0.]\n",
            " [0. 1. 0.]\n",
            " [0. 0. 1.]]\n"
          ]
        }
      ]
    },
    {
      "cell_type": "code",
      "source": [
        "# r1.I\n",
        "result2=np.dot(r1,r2)"
      ],
      "metadata": {
        "id": "dFOm049gI-1w"
      },
      "execution_count": null,
      "outputs": []
    },
    {
      "cell_type": "code",
      "source": [
        "print(result2)"
      ],
      "metadata": {
        "colab": {
          "base_uri": "https://localhost:8080/"
        },
        "id": "cnu-OyhBJGzG",
        "outputId": "592221f2-01f7-4591-bb16-13a4356bc61c"
      },
      "execution_count": null,
      "outputs": [
        {
          "output_type": "stream",
          "name": "stdout",
          "text": [
            "[[19. 13. 16.]\n",
            " [17. 17. 13.]\n",
            " [10. 13. 16.]]\n"
          ]
        }
      ]
    },
    {
      "cell_type": "code",
      "source": [
        "#M.I=I.M=I\n",
        "#A.B!=B.A"
      ],
      "metadata": {
        "id": "DdJFxt0wJJs0"
      },
      "execution_count": null,
      "outputs": []
    },
    {
      "cell_type": "code",
      "source": [
        "#Mathematical operations\n",
        "# + - * /\n",
        "t1=np.random.randint(3,6,(3,3))\n",
        "t2=np.random.randint(3,6,(3,3))"
      ],
      "metadata": {
        "id": "0k5CNFVbJRbQ"
      },
      "execution_count": null,
      "outputs": []
    },
    {
      "cell_type": "code",
      "source": [
        "print(t1)\n",
        "print(t2)"
      ],
      "metadata": {
        "colab": {
          "base_uri": "https://localhost:8080/"
        },
        "id": "bRZs5pFTJkQx",
        "outputId": "9863c73f-bf14-4770-9d52-4f2a02fce019"
      },
      "execution_count": null,
      "outputs": [
        {
          "output_type": "stream",
          "name": "stdout",
          "text": [
            "[[5 4 5]\n",
            " [3 5 5]\n",
            " [5 5 3]]\n",
            "[[5 5 3]\n",
            " [5 5 3]\n",
            " [4 4 5]]\n"
          ]
        }
      ]
    },
    {
      "cell_type": "code",
      "source": [
        "t3=t1+t2"
      ],
      "metadata": {
        "id": "dKu7pZ4yJo-i"
      },
      "execution_count": null,
      "outputs": []
    },
    {
      "cell_type": "code",
      "source": [
        "print(t3)"
      ],
      "metadata": {
        "colab": {
          "base_uri": "https://localhost:8080/"
        },
        "id": "lB7SkjgbJsib",
        "outputId": "8f09a922-5b0c-4750-eb6d-1ae6042f6368"
      },
      "execution_count": null,
      "outputs": [
        {
          "output_type": "stream",
          "name": "stdout",
          "text": [
            "[[10  9  8]\n",
            " [ 8 10  8]\n",
            " [ 9  9  8]]\n"
          ]
        }
      ]
    },
    {
      "cell_type": "code",
      "source": [
        "#Matrix multiplication\n",
        "result=np.dot(arr1,arr)"
      ],
      "metadata": {
        "id": "pcGfSNevJ1i3"
      },
      "execution_count": null,
      "outputs": []
    },
    {
      "cell_type": "code",
      "source": [
        "#Statistical operations\n",
        "mean=t3.mean()\n",
        "mode=t3.max()\n",
        "median=np.median(t3)\n",
        "std=np.std(t3)\n",
        "var=np.var(t3)"
      ],
      "metadata": {
        "id": "PiLUoBXyKAXT"
      },
      "execution_count": null,
      "outputs": []
    },
    {
      "cell_type": "code",
      "source": [
        "print(mean)"
      ],
      "metadata": {
        "colab": {
          "base_uri": "https://localhost:8080/"
        },
        "id": "ow1YyzYXKmo0",
        "outputId": "72b52eda-b927-4106-ed10-164e1c83fd88"
      },
      "execution_count": null,
      "outputs": [
        {
          "output_type": "stream",
          "name": "stdout",
          "text": [
            "8.777777777777779\n"
          ]
        }
      ]
    },
    {
      "cell_type": "code",
      "source": [
        "print(median)"
      ],
      "metadata": {
        "colab": {
          "base_uri": "https://localhost:8080/"
        },
        "id": "mYjEa6ZRKo16",
        "outputId": "f5dc28ab-0a55-4a00-e1dd-7d595815f4e5"
      },
      "execution_count": null,
      "outputs": [
        {
          "output_type": "stream",
          "name": "stdout",
          "text": [
            "9.0\n"
          ]
        }
      ]
    },
    {
      "cell_type": "code",
      "source": [
        "print(std)"
      ],
      "metadata": {
        "colab": {
          "base_uri": "https://localhost:8080/"
        },
        "id": "Fa5zIR-CKr1V",
        "outputId": "5dff17bb-1d1a-45ab-addb-337141d1e6f4"
      },
      "execution_count": null,
      "outputs": [
        {
          "output_type": "stream",
          "name": "stdout",
          "text": [
            "0.7856742013183861\n"
          ]
        }
      ]
    },
    {
      "cell_type": "code",
      "source": [
        "print(var)"
      ],
      "metadata": {
        "colab": {
          "base_uri": "https://localhost:8080/"
        },
        "id": "1-a-voGGLUj2",
        "outputId": "b05e66e6-c83d-402d-bdae-ab1473b7de89"
      },
      "execution_count": null,
      "outputs": [
        {
          "output_type": "stream",
          "name": "stdout",
          "text": [
            "0.6172839506172838\n"
          ]
        }
      ]
    },
    {
      "cell_type": "code",
      "source": [
        "std*std"
      ],
      "metadata": {
        "colab": {
          "base_uri": "https://localhost:8080/"
        },
        "id": "TqqAmvP-LWXB",
        "outputId": "f70c43e8-b28f-45c7-8fc4-e3cd11d8923e"
      },
      "execution_count": null,
      "outputs": [
        {
          "output_type": "execute_result",
          "data": {
            "text/plain": [
              "0.6172839506172838"
            ]
          },
          "metadata": {},
          "execution_count": 49
        }
      ]
    },
    {
      "cell_type": "code",
      "source": [
        "#Trignometry functions\n",
        "#Sin(x)\n",
        "#Cos(x)\n",
        "#Tan(x)-sin(x)/cos(x)\n",
        "#Cosec-1/sin(x)\n",
        "#Sec-1/Cos(x)\n",
        "#Cot-1/Tan(x)\n",
        "#\n",
        "angles=np.array([0,15,30,45,60,75,90])\n",
        "#Sin(array)\n",
        "result=np.sin(np.radians(angles))\n",
        "result1=np.cos(np.radians(angles))\n",
        "result2=np.tan(np.radians(angles))"
      ],
      "metadata": {
        "id": "GpisHsPULYSA"
      },
      "execution_count": null,
      "outputs": []
    },
    {
      "cell_type": "code",
      "source": [
        "print(result)\n",
        "print(result1)\n",
        "print(result2)"
      ],
      "metadata": {
        "colab": {
          "base_uri": "https://localhost:8080/"
        },
        "id": "EvjtTHvjLrJV",
        "outputId": "d2b91b43-36aa-4b72-8445-995674f1615b"
      },
      "execution_count": null,
      "outputs": [
        {
          "output_type": "stream",
          "name": "stdout",
          "text": [
            "[0.         0.25881905 0.5        0.70710678 0.8660254  0.96592583\n",
            " 1.        ]\n",
            "[1.00000000e+00 9.65925826e-01 8.66025404e-01 7.07106781e-01\n",
            " 5.00000000e-01 2.58819045e-01 6.12323400e-17]\n",
            "[0.00000000e+00 2.67949192e-01 5.77350269e-01 1.00000000e+00\n",
            " 1.73205081e+00 3.73205081e+00 1.63312394e+16]\n"
          ]
        }
      ]
    },
    {
      "cell_type": "code",
      "source": [
        "arr=np.array([1,2,3,4,5,6])\n",
        "#Reshape the array\n",
        "reshapedarr=arr.reshape(3,2)\n",
        "print(reshapedarr)\n",
        "#Covert/Flatten any n dim array\n",
        "flattendarr=arr.flatten()\n",
        "print(flattendarr)"
      ],
      "metadata": {
        "colab": {
          "base_uri": "https://localhost:8080/"
        },
        "id": "oiYOt5vPL0Tt",
        "outputId": "4afd8d52-3515-4205-9ccd-78c2856a42c8"
      },
      "execution_count": null,
      "outputs": [
        {
          "output_type": "stream",
          "name": "stdout",
          "text": [
            "[[1 2]\n",
            " [3 4]\n",
            " [5 6]]\n",
            "[1 2 3 4 5 6]\n"
          ]
        }
      ]
    },
    {
      "cell_type": "code",
      "source": [
        "#stacking the dataarr=np.array([1,2,3,4,5,6])\n",
        "#Reshape the array\n",
        "reshapedarr=arr.reshape(3,2)\n",
        "print(reshapedarr)\n",
        "#Covert/Flatten any n dim array\n",
        "flattendarr=arr.flatten()\n",
        "print(flattendarr)"
      ],
      "metadata": {
        "colab": {
          "base_uri": "https://localhost:8080/"
        },
        "id": "5eVK6eRXMLZk",
        "outputId": "903e4157-2c88-4b12-cfe4-29c1b66a27cc"
      },
      "execution_count": null,
      "outputs": [
        {
          "output_type": "stream",
          "name": "stdout",
          "text": [
            "[[1 2]\n",
            " [3 4]\n",
            " [5 6]]\n",
            "[1 2 3 4 5 6]\n"
          ]
        }
      ]
    },
    {
      "cell_type": "code",
      "source": [
        "#Filtering\n",
        "arr=np.array([10,20,30,40,50,60,70,80,90])\n",
        "farr=arr[arr>40]\n",
        "print(farr)"
      ],
      "metadata": {
        "colab": {
          "base_uri": "https://localhost:8080/"
        },
        "id": "ICMRwVh0OnA_",
        "outputId": "95c4511c-0c48-4038-b82d-5cdb0c0f83d2"
      },
      "execution_count": null,
      "outputs": [
        {
          "output_type": "stream",
          "name": "stdout",
          "text": [
            "[50 60 70 80 90]\n"
          ]
        }
      ]
    }
  ]
}