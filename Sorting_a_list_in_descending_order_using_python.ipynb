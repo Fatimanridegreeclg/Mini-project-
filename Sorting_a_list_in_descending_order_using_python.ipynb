{
  "nbformat": 4,
  "nbformat_minor": 0,
  "metadata": {
    "colab": {
      "provenance": [],
      "authorship_tag": "ABX9TyOfZAjKT+b9y3FL0UBk4M9h",
      "include_colab_link": true
    },
    "kernelspec": {
      "name": "python3",
      "display_name": "Python 3"
    },
    "language_info": {
      "name": "python"
    }
  },
  "cells": [
    {
      "cell_type": "markdown",
      "metadata": {
        "id": "view-in-github",
        "colab_type": "text"
      },
      "source": [
        "<a href=\"https://colab.research.google.com/github/Fatimanridegreeclg/Mini-project-/blob/main/Sorting_a_list_in_descending_order_using_python.ipynb\" target=\"_parent\"><img src=\"https://colab.research.google.com/assets/colab-badge.svg\" alt=\"Open In Colab\"/></a>"
      ]
    },
    {
      "cell_type": "code",
      "execution_count": null,
      "metadata": {
        "id": "aE97hhZdL34I"
      },
      "outputs": [],
      "source": [
        "   L1=[0,1,5,3,6,9,15]\n",
        "   L2=[]\n",
        "   def maxi(List):\n",
        "      Maxival=List[0]\n",
        "      for _  in List:\n",
        "          if _ >=Maxival:\n",
        "             Maxval=_\n",
        "      L1.remove(Maxival)\n",
        "      L2.append(Maxival)"
      ]
    },
    {
      "cell_type": "code",
      "source": [
        "for _ in range(len(L1)):\n",
        "     maxi(L1)"
      ],
      "metadata": {
        "id": "4kgCWUhPPDjm"
      },
      "execution_count": null,
      "outputs": []
    },
    {
      "cell_type": "code",
      "source": [
        "L2"
      ],
      "metadata": {
        "colab": {
          "base_uri": "https://localhost:8080/"
        },
        "id": "njhIZaIrPhVj",
        "outputId": "575074b5-a8b9-481b-d267-905ebeb2b662"
      },
      "execution_count": null,
      "outputs": [
        {
          "output_type": "execute_result",
          "data": {
            "text/plain": [
              "[0, 1, 5, 3, 6, 9, 15]"
            ]
          },
          "metadata": {},
          "execution_count": 8
        }
      ]
    }
  ]
}